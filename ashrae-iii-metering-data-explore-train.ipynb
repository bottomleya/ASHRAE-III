{
 "cells": [
  {
   "cell_type": "markdown",
   "execution_count": null,
   "metadata": {},
   "source": [
    "# **ASHRAE III - Metering Data Analysis - EXPLORE & TRAIN**\n",
    "As an engineer with a background in Building Automation, I have some first-hand experience dealing with building metering data, particularly the analysis of it for reducing energy/water consumption. Some insights from wider industry around metering data:\n",
    "* If a meter is offline, it will generally read zero consumption (as opposed to empty values)\n",
    "* Water meters and steam meters generate consumption data by 'pulsing' every time it accumulates a certain volume of water; the L/pulse calibration needs to be set correctly otherwise the meter will read potentially orders of magnitude out (e.g. is it 1 L/pulse vs 10 L/pulse vs 1m3/pulse)\n",
    "* It is common for a building's meter profile to change with variances in tenancy occupation and building construction works\n",
    "* Public holidays will have signiciant impacts on building meter profiles"
   ]
  },
  {
   "cell_type": "markdown",
   "execution_count": null,
   "metadata": {},
   "source": [
    "# Load Data\n",
    "First we start with standard imports and merging metering readings with the building meta data and weather data."
   ]
  },
  {
   "cell_type": "code",
   "execution_count": 1,
   "metadata": {},
   "outputs": [],
   "source": [
    "# Import dependencies\n",
    "import pandas as pd\n",
    "import numpy as np\n",
    "import matplotlib.pyplot as plt\n",
    "import xgboost as xgb\n",
    "from sklearn.model_selection import KFold\n",
    "from sklearn.metrics import mean_squared_log_error\n",
    "from sklearn.metrics import mean_squared_error\n",
    "import gc\n",
    "import os\n",
    "from pandas.tseries.holiday import USFederalHolidayCalendar as calendar\n",
    "\n",
    "# Define file + folder names\n",
    "folder = '/kaggle/input/ashrae-energy-prediction/'\n",
    "train_filename = 'train.csv'\n",
    "weather_train_filename = 'weather_train.csv'\n",
    "building_meta_data_filename = 'building_metadata.csv'\n",
    "test_filename = 'test.csv'\n",
    "sample_submission_filename = 'sample_submission.csv'\n",
    "weather_test_filename = 'weather_test.csv'"
   ]
  },
  {
   "cell_type": "code",
   "execution_count": 2,
   "metadata": {
    "_cell_guid": "b1076dfc-b9ad-4769-8c92-a6c4dae69d19",
    "_uuid": "8f2839f25d086af736a60e9eeb907d3b93b6e0e5"
   },
   "outputs": [
    {
     "name": "stdout",
     "output_type": "stream",
     "text": [
      "<class 'pandas.core.frame.DataFrame'>\n",
      "Int64Index: 20125605 entries, 0 to 20125604\n",
      "Data columns (total 16 columns):\n",
      "building_id           int64\n",
      "meter                 int64\n",
      "timestamp             object\n",
      "meter_reading         float64\n",
      "site_id               int64\n",
      "primary_use           object\n",
      "square_feet           int64\n",
      "year_built            float64\n",
      "floor_count           float64\n",
      "air_temperature       float64\n",
      "cloud_coverage        float64\n",
      "dew_temperature       float64\n",
      "precip_depth_1_hr     float64\n",
      "sea_level_pressure    float64\n",
      "wind_direction        float64\n",
      "wind_speed            float64\n",
      "dtypes: float64(10), int64(4), object(2)\n",
      "memory usage: 2.5+ GB\n"
     ]
    }
   ],
   "source": [
    "# Load train data into dataframes\n",
    "train = pd.read_csv(folder + train_filename)\n",
    "weather_train = pd.read_csv(folder + weather_train_filename)\n",
    "building_meta_data = pd.read_csv(folder + building_meta_data_filename)\n",
    "\n",
    "# Merge data\n",
    "train = train.merge(building_meta_data, left_on = 'building_id', right_on = 'building_id')\n",
    "train = train.merge(weather_train, left_on = ['site_id','timestamp'], right_on = ['site_id','timestamp'])\n",
    "\n",
    "# Delete redundant DataFrames from memory\n",
    "del weather_train, building_meta_data\n",
    "\n",
    "train.head()\n",
    "train.info()\n",
    "\n"
   ]
  },
  {
   "cell_type": "markdown",
   "execution_count": null,
   "metadata": {},
   "source": [
    "# Convert Categorical Information\n",
    "\n",
    "As per above data information, the only categorical variable requiring encoding is a building's 'primary_use'. The below shows the counts of buildings according to their primary use.\n",
    "\n",
    "We then convert the 'primary_use' feature to be a numeric variable"
   ]
  },
  {
   "cell_type": "code",
   "execution_count": 3,
   "metadata": {},
   "outputs": [
    {
     "name": "stdout",
     "output_type": "stream",
     "text": [
      "primary_use\n",
      "Education                        549\n",
      "Office                           279\n",
      "Entertainment/public assembly    184\n",
      "Public services                  156\n",
      "Lodging/residential              147\n",
      "Other                             25\n",
      "Healthcare                        23\n",
      "Parking                           22\n",
      "Warehouse/storage                 13\n",
      "Manufacturing/industrial          12\n",
      "Retail                            11\n",
      "Services                          10\n",
      "Technology/science                 6\n",
      "Food sales and service             5\n",
      "Utility                            4\n",
      "Religious worship                  3\n",
      "Name: building_id, dtype: int64\n",
      "primary_use\n"
     ]
    },
    {
     "data": {
      "text/html": [
       "<div>\n",
       "<style scoped>\n",
       "    .dataframe tbody tr th:only-of-type {\n",
       "        vertical-align: middle;\n",
       "    }\n",
       "\n",
       "    .dataframe tbody tr th {\n",
       "        vertical-align: top;\n",
       "    }\n",
       "\n",
       "    .dataframe thead th {\n",
       "        text-align: right;\n",
       "    }\n",
       "</style>\n",
       "<table border=\"1\" class=\"dataframe\">\n",
       "  <thead>\n",
       "    <tr style=\"text-align: right;\">\n",
       "      <th></th>\n",
       "      <th>primary_use</th>\n",
       "    </tr>\n",
       "  </thead>\n",
       "  <tbody>\n",
       "    <tr>\n",
       "      <th>0</th>\n",
       "      <td>0</td>\n",
       "    </tr>\n",
       "    <tr>\n",
       "      <th>1</th>\n",
       "      <td>1</td>\n",
       "    </tr>\n",
       "    <tr>\n",
       "      <th>2</th>\n",
       "      <td>2</td>\n",
       "    </tr>\n",
       "    <tr>\n",
       "      <th>3</th>\n",
       "      <td>3</td>\n",
       "    </tr>\n",
       "    <tr>\n",
       "      <th>4</th>\n",
       "      <td>4</td>\n",
       "    </tr>\n",
       "    <tr>\n",
       "      <th>5</th>\n",
       "      <td>5</td>\n",
       "    </tr>\n",
       "    <tr>\n",
       "      <th>6</th>\n",
       "      <td>6</td>\n",
       "    </tr>\n",
       "    <tr>\n",
       "      <th>7</th>\n",
       "      <td>7</td>\n",
       "    </tr>\n",
       "    <tr>\n",
       "      <th>8</th>\n",
       "      <td>8</td>\n",
       "    </tr>\n",
       "    <tr>\n",
       "      <th>9</th>\n",
       "      <td>9</td>\n",
       "    </tr>\n",
       "    <tr>\n",
       "      <th>10</th>\n",
       "      <td>10</td>\n",
       "    </tr>\n",
       "    <tr>\n",
       "      <th>11</th>\n",
       "      <td>11</td>\n",
       "    </tr>\n",
       "    <tr>\n",
       "      <th>12</th>\n",
       "      <td>12</td>\n",
       "    </tr>\n",
       "    <tr>\n",
       "      <th>13</th>\n",
       "      <td>13</td>\n",
       "    </tr>\n",
       "    <tr>\n",
       "      <th>14</th>\n",
       "      <td>14</td>\n",
       "    </tr>\n",
       "    <tr>\n",
       "      <th>15</th>\n",
       "      <td>15</td>\n",
       "    </tr>\n",
       "  </tbody>\n",
       "</table>\n",
       "</div>"
      ],
      "text/plain": [
       "    primary_use\n",
       "0             0\n",
       "1             1\n",
       "2             2\n",
       "3             3\n",
       "4             4\n",
       "5             5\n",
       "6             6\n",
       "7             7\n",
       "8             8\n",
       "9             9\n",
       "10           10\n",
       "11           11\n",
       "12           12\n",
       "13           13\n",
       "14           14\n",
       "15           15"
      ]
     },
     "execution_count": 3,
     "metadata": {},
     "output_type": "execute_result"
    }
   ],
   "source": [
    "# show counts of buildings according to their primary use\n",
    "print(train.groupby('primary_use')['building_id'].unique().apply(len).sort_values(ascending=False))\n",
    "\n",
    "# convert primary_use (type 'object') to numerical\n",
    "def convert_to_numeric(df,cols):\n",
    "    df_cats = pd.DataFrame()\n",
    "    for feature in cols:\n",
    "        df[feature] = df[feature].astype('category').cat.codes\n",
    "        df_cats[feature] = dict(enumerate(df[feature].astype('category').cat.categories))\n",
    "        print(feature)\n",
    "    return df, df_cats\n",
    "\n",
    "train, category_dict = convert_to_numeric(train, ['primary_use'])\n",
    "\n",
    "category_dict"
   ]
  },
  {
   "cell_type": "markdown",
   "execution_count": null,
   "metadata": {},
   "source": [
    "# Date-Time Features\n",
    "\n",
    "Perhaps most importantly we need to create date & time features. Some speculations on how these features can impact the accuracy include:\n",
    "* Month: Changes in building setpoints during winter months to account for people wearing warmer clothes\n",
    "* Hour: Occupancy hours will differ for each building\n",
    "* Day Of Week & Holiday: Some buildings will be occupied on the weekend, whilst others will not"
   ]
  },
  {
   "cell_type": "code",
   "execution_count": 4,
   "metadata": {
    "_cell_guid": "79c7e3d0-c299-4dcb-8224-4455121ee9b0",
    "_uuid": "d629ff2d2480ee46fbb7e2d37f6b5fab8052498a"
   },
   "outputs": [
    {
     "name": "stdout",
     "output_type": "stream",
     "text": [
      "Index(['building_id', 'meter', 'meter_reading', 'site_id', 'primary_use',\n",
      "       'square_feet', 'year_built', 'floor_count', 'air_temperature',\n",
      "       'cloud_coverage', 'dew_temperature', 'precip_depth_1_hr',\n",
      "       'sea_level_pressure', 'wind_direction', 'wind_speed', 'date', 'year',\n",
      "       'month', 'hour', 'week', 'day_of_week', 'week_day', 'holiday'],\n",
      "      dtype='object')\n"
     ]
    }
   ],
   "source": [
    "# Add new features for Date & Time\n",
    "train['timestamp'] = pd.to_datetime(train['timestamp'], format='%Y-%m-%d %H:%M:%S')\n",
    "train['date'] = train['timestamp'].dt.date\n",
    "train['year'] = train['timestamp'].dt.year\n",
    "train['month'] = train['timestamp'].dt.month\n",
    "train['hour'] = train['timestamp'].dt.hour\n",
    "train['week'] = train['timestamp'].dt.week\n",
    "train['day_of_week'] = train['timestamp'].dt.dayofweek\n",
    "train['week_day'] = [0 if day==5 or day==6 else 1 for day in train['day_of_week']]\n",
    "\n",
    "# Add feature for US holidays\n",
    "dates_range = pd.date_range(start='2015-12-31', end='2019-01-01')\n",
    "us_holidays = calendar().holidays(start=dates_range.min(), end=dates_range.max())\n",
    "train['holiday'] = (train['timestamp'].dt.date.astype('datetime64').isin(us_holidays)).astype(np.int8)\n",
    "    \n",
    "del train['timestamp']\n",
    "  \n",
    "print(train.columns)\n"
   ]
  },
  {
   "cell_type": "markdown",
   "execution_count": null,
   "metadata": {},
   "source": [
    "# Reduce Memory Consumption\n",
    "\n",
    "The memory usage of the data is reduced using kernel from https://www.kaggle.com/arjanso/reducing-dataframe-memory-size-by-65."
   ]
  },
  {
   "cell_type": "code",
   "execution_count": 5,
   "metadata": {},
   "outputs": [
    {
     "name": "stdout",
     "output_type": "stream",
     "text": [
      "Memory usage of properties dataframe is : 4056.402521133423  MB\n",
      "******************************\n",
      "Column:  building_id\n",
      "dtype before:  int64\n",
      "min for this col:  0\n",
      "max for this col:  1448\n",
      "dtype after:  uint16\n",
      "******************************\n",
      "******************************\n",
      "Column:  meter\n",
      "dtype before:  int64\n",
      "min for this col:  0\n",
      "max for this col:  3\n",
      "dtype after:  uint8\n",
      "******************************\n",
      "******************************\n",
      "Column:  meter_reading\n",
      "dtype before:  float64\n",
      "min for this col:  0.0\n",
      "max for this col:  21904700.0\n",
      "dtype after:  float32\n",
      "******************************\n",
      "******************************\n",
      "Column:  site_id\n",
      "dtype before:  int64\n",
      "min for this col:  0\n",
      "max for this col:  15\n",
      "dtype after:  uint8\n",
      "******************************\n",
      "******************************\n",
      "Column:  primary_use\n",
      "dtype before:  int8\n",
      "min for this col:  0\n",
      "max for this col:  15\n",
      "dtype after:  uint8\n",
      "******************************\n",
      "******************************\n",
      "Column:  square_feet\n",
      "dtype before:  int64\n",
      "min for this col:  283\n",
      "max for this col:  875000\n",
      "dtype after:  uint32\n",
      "******************************\n",
      "******************************\n",
      "Column:  year_built\n",
      "dtype before:  float64\n",
      "min for this col:  1900.0\n",
      "max for this col:  2017.0\n",
      "dtype after:  uint16\n",
      "******************************\n",
      "******************************\n",
      "Column:  floor_count\n",
      "dtype before:  float64\n",
      "min for this col:  1.0\n",
      "max for this col:  26.0\n",
      "dtype after:  uint8\n",
      "******************************\n",
      "******************************\n",
      "Column:  air_temperature\n",
      "dtype before:  float64\n",
      "min for this col:  -28.9\n",
      "max for this col:  47.2\n",
      "dtype after:  float32\n",
      "******************************\n",
      "******************************\n",
      "Column:  cloud_coverage\n",
      "dtype before:  float64\n",
      "min for this col:  0.0\n",
      "max for this col:  9.0\n",
      "dtype after:  uint8\n",
      "******************************\n",
      "******************************\n",
      "Column:  dew_temperature\n",
      "dtype before:  float64\n",
      "min for this col:  -35.0\n",
      "max for this col:  26.1\n",
      "dtype after:  float32\n",
      "******************************\n",
      "******************************\n",
      "Column:  precip_depth_1_hr\n",
      "dtype before:  float64\n",
      "min for this col:  -1.0\n",
      "max for this col:  343.0\n",
      "dtype after:  int16\n",
      "******************************\n",
      "******************************\n",
      "Column:  sea_level_pressure\n",
      "dtype before:  float64\n",
      "min for this col:  968.2\n",
      "max for this col:  1045.5\n",
      "dtype after:  float32\n",
      "******************************\n",
      "******************************\n",
      "Column:  wind_direction\n",
      "dtype before:  float64\n",
      "min for this col:  0.0\n",
      "max for this col:  360.0\n",
      "dtype after:  uint16\n",
      "******************************\n",
      "******************************\n",
      "Column:  wind_speed\n",
      "dtype before:  float64\n",
      "min for this col:  0.0\n",
      "max for this col:  19.0\n",
      "dtype after:  float32\n",
      "******************************\n",
      "******************************\n",
      "Column:  year\n",
      "dtype before:  int64\n",
      "min for this col:  2016\n",
      "max for this col:  2016\n",
      "dtype after:  uint16\n",
      "******************************\n",
      "******************************\n",
      "Column:  month\n",
      "dtype before:  int64\n",
      "min for this col:  1\n",
      "max for this col:  12\n",
      "dtype after:  uint8\n",
      "******************************\n",
      "******************************\n",
      "Column:  hour\n",
      "dtype before:  int64\n",
      "min for this col:  0\n",
      "max for this col:  23\n",
      "dtype after:  uint8\n",
      "******************************\n",
      "******************************\n",
      "Column:  week\n",
      "dtype before:  int64\n",
      "min for this col:  1\n",
      "max for this col:  53\n",
      "dtype after:  uint8\n",
      "******************************\n",
      "******************************\n",
      "Column:  day_of_week\n",
      "dtype before:  int64\n",
      "min for this col:  0\n",
      "max for this col:  6\n",
      "dtype after:  uint8\n",
      "******************************\n",
      "******************************\n",
      "Column:  week_day\n",
      "dtype before:  int64\n",
      "min for this col:  0\n",
      "max for this col:  1\n",
      "dtype after:  uint8\n",
      "******************************\n",
      "******************************\n",
      "Column:  holiday\n",
      "dtype before:  int8\n",
      "min for this col:  0\n",
      "max for this col:  1\n",
      "dtype after:  uint8\n",
      "******************************\n",
      "___MEMORY USAGE AFTER COMPLETION:___\n",
      "Memory usage is:  1810.7896280288696  MB\n",
      "This is  44.6402845525031 % of the initial size\n"
     ]
    }
   ],
   "source": [
    "#Based on this great kernel https://www.kaggle.com/arjanso/reducing-dataframe-memory-size-by-65\n",
    "def reduce_mem_usage(df):\n",
    "    start_mem_usg = df.memory_usage().sum() / 1024**2 \n",
    "    print(\"Memory usage of properties dataframe is :\",start_mem_usg,\" MB\")\n",
    "    NAlist = [] # Keeps track of columns that have missing values filled in. \n",
    "    for col in df.columns:\n",
    "        if df[col].dtype != object:  # Exclude strings            \n",
    "            # Print current column type\n",
    "            print(\"******************************\")\n",
    "            print(\"Column: \",col)\n",
    "            print(\"dtype before: \",df[col].dtype)            \n",
    "            # make variables for Int, max and min\n",
    "            IsInt = False\n",
    "            mx = df[col].max()\n",
    "            mn = df[col].min()\n",
    "            print(\"min for this col: \",mn)\n",
    "            print(\"max for this col: \",mx)\n",
    "            # Integer does not support NA, therefore, NA needs to be filled\n",
    "            if not np.isfinite(df[col]).all(): \n",
    "                NAlist.append(col)\n",
    "                df[col].fillna(mn-1,inplace=True)  \n",
    "                   \n",
    "            # test if column can be converted to an integer\n",
    "            asint = df[col].fillna(0).astype(np.int64)\n",
    "            result = (df[col] - asint)\n",
    "            result = result.sum()\n",
    "            if result > -0.01 and result < 0.01:\n",
    "                IsInt = True            \n",
    "            # Make Integer/unsigned Integer datatypes\n",
    "            if IsInt:\n",
    "                if mn >= 0:\n",
    "                    if mx < 255:\n",
    "                        df[col] = df[col].astype(np.uint8)\n",
    "                    elif mx < 65535:\n",
    "                        df[col] = df[col].astype(np.uint16)\n",
    "                    elif mx < 4294967295:\n",
    "                        df[col] = df[col].astype(np.uint32)\n",
    "                    else:\n",
    "                        df[col] = df[col].astype(np.uint64)\n",
    "                else:\n",
    "                    if mn > np.iinfo(np.int8).min and mx < np.iinfo(np.int8).max:\n",
    "                        df[col] = df[col].astype(np.int8)\n",
    "                    elif mn > np.iinfo(np.int16).min and mx < np.iinfo(np.int16).max:\n",
    "                        df[col] = df[col].astype(np.int16)\n",
    "                    elif mn > np.iinfo(np.int32).min and mx < np.iinfo(np.int32).max:\n",
    "                        df[col] = df[col].astype(np.int32)\n",
    "                    elif mn > np.iinfo(np.int64).min and mx < np.iinfo(np.int64).max:\n",
    "                        df[col] = df[col].astype(np.int64)    \n",
    "            # Make float datatypes 32 bit\n",
    "            else:\n",
    "                df[col] = df[col].astype(np.float32)\n",
    "            \n",
    "            # Print new column type\n",
    "            print(\"dtype after: \",df[col].dtype)\n",
    "            print(\"******************************\")\n",
    "    # Print final result\n",
    "    print(\"___MEMORY USAGE AFTER COMPLETION:___\")\n",
    "    mem_usg = df.memory_usage().sum() / 1024**2 \n",
    "    print(\"Memory usage is: \",mem_usg,\" MB\")\n",
    "    print(\"This is \",100*mem_usg/start_mem_usg,\"% of the initial size\")\n",
    "    return df, NAlist\n",
    "\n",
    "train, nalist = reduce_mem_usage(train)"
   ]
  },
  {
   "cell_type": "markdown",
   "execution_count": null,
   "metadata": {},
   "source": [
    "# Data Exploration & Visualization\n",
    "\n",
    "To ensure we have an even distribution of readings we visualise the frequency histogram of the various date & time features."
   ]
  },
  {
   "cell_type": "code",
   "execution_count": 6,
   "metadata": {},
   "outputs": [
    {
     "data": {
      "image/png": "[encoded data removed]",
      "text/plain": [
       "<Figure size 432x288 with 1 Axes>"
      ]
     },
     "metadata": {
      "needs_background": "light"
     },
     "output_type": "display_data"
    },
    {
     "data": {
      "image/png": "[encoded data removed]",
      "text/plain": [
       "<Figure size 432x288 with 1 Axes>"
      ]
     },
     "metadata": {
      "needs_background": "light"
     },
     "output_type": "display_data"
    },
    {
     "data": {
      "image/png": "[encoded data removed]",
      "text/plain": [
       "<Figure size 432x288 with 1 Axes>"
      ]
     },
     "metadata": {
      "needs_background": "light"
     },
     "output_type": "display_data"
    },
    {
     "data": {
      "image/png": "[encoded data removed]",
      "text/plain": [
       "<Figure size 432x288 with 1 Axes>"
      ]
     },
     "metadata": {
      "needs_background": "light"
     },
     "output_type": "display_data"
    }
   ],
   "source": [
    "# Visualize distribution of Date-Time features\n",
    "datetime_features = ['year','month','hour','day_of_week']\n",
    "for idx, feature in enumerate(datetime_features):\n",
    "    fig, axs = plt.subplots(1,1,constrained_layout=True)\n",
    "    axs.hist(train[feature],bins=len(np.unique(train[feature])))\n",
    "    axs.set_title(feature)\n",
    "plt.show()\n"
   ]
  },
  {
   "cell_type": "markdown",
   "execution_count": null,
   "metadata": {},
   "source": [
    "The distribution of meter readings is plotted per meter type, which approximately follows a power-law relationship. "
   ]
  },
  {
   "cell_type": "code",
   "execution_count": 7,
   "metadata": {},
   "outputs": [
    {
     "data": {
      "image/png": "[encoded data removed]",
      "text/plain": [
       "<Figure size 432x288 with 1 Axes>"
      ]
     },
     "metadata": {
      "needs_background": "light"
     },
     "output_type": "display_data"
    },
    {
     "data": {
      "image/png": "[encoded data removed]",
      "text/plain": [
       "<Figure size 432x288 with 1 Axes>"
      ]
     },
     "metadata": {
      "needs_background": "light"
     },
     "output_type": "display_data"
    },
    {
     "data": {
      "image/png": "[encoded data removed]",
      "text/plain": [
       "<Figure size 432x288 with 1 Axes>"
      ]
     },
     "metadata": {
      "needs_background": "light"
     },
     "output_type": "display_data"
    },
    {
     "data": {
      "image/png": "[encoded data removed]",
      "text/plain": [
       "<Figure size 432x288 with 1 Axes>"
      ]
     },
     "metadata": {
      "needs_background": "light"
     },
     "output_type": "display_data"
    }
   ],
   "source": [
    "# Visualize distribution of meter readings\n",
    "meter_types = {0: \"electricity\",\n",
    "               1: \"chilledwater\",\n",
    "               2: \"steam\",\n",
    "               3: \"hotwater\"}\n",
    "for meter_idx in meter_types:\n",
    "    fig, axs = plt.subplots(1,1,constrained_layout=True)\n",
    "    axs.hist(train[train['meter']==meter_idx]['meter_reading'],bins=1000)\n",
    "    axs.set_title(meter_types[meter_idx])\n",
    "    axs.set_yscale('log')\n",
    "    axs.set_xscale('log')\n",
    "    axs.set_xlabel('meter_readings')\n",
    "    axs.set_ylabel('count')\n",
    "plt.show()"
   ]
  },
  {
   "cell_type": "markdown",
   "execution_count": null,
   "metadata": {},
   "source": [
    "To get a general idea of the yearly trends per meter type, we group by day and then plot the median values for each day. Using the median helps to be more resilient to some of the higher consumptions exhibited by outlier buildings. The following insights can be gleaned:\n",
    "* chilledwater, hotwater and steam are all heavily dependent on seasonality\n",
    "* electricity has a fairly consistent weekly profile"
   ]
  },
  {
   "cell_type": "code",
   "execution_count": 8,
   "metadata": {},
   "outputs": [
    {
     "name": "stderr",
     "output_type": "stream",
     "text": [
      "/opt/conda/lib/python3.6/site-packages/pandas/plotting/_matplotlib/converter.py:103: FutureWarning: Using an implicitly registered datetime converter for a matplotlib plotting method. The converter was registered by pandas on import. Future versions of pandas will require you to explicitly register matplotlib converters.\n",
      "\n",
      "To register the converters:\n",
      "\t>>> from pandas.plotting import register_matplotlib_converters\n",
      "\t>>> register_matplotlib_converters()\n",
      "  warnings.warn(msg, FutureWarning)\n"
     ]
    },
    {
     "data": {
      "image/png": "[encoded data removed]",
      "text/plain": [
       "<Figure size 432x288 with 1 Axes>"
      ]
     },
     "metadata": {
      "needs_background": "light"
     },
     "output_type": "display_data"
    },
    {
     "data": {
      "image/png": "[encoded data removed]",
      "text/plain": [
       "<Figure size 432x288 with 1 Axes>"
      ]
     },
     "metadata": {
      "needs_background": "light"
     },
     "output_type": "display_data"
    },
    {
     "data": {
      "image/png": "[encoded data removed]",
      "text/plain": [
       "<Figure size 432x288 with 1 Axes>"
      ]
     },
     "metadata": {
      "needs_background": "light"
     },
     "output_type": "display_data"
    },
    {
     "data": {
      "image/png": "[encoded data removed]",
      "text/plain": [
       "<Figure size 432x288 with 1 Axes>"
      ]
     },
     "metadata": {
      "needs_background": "light"
     },
     "output_type": "display_data"
    }
   ],
   "source": [
    "# Group to find daily consumption (kWh), then group by building_id to find median daily consumption\n",
    "train_median_daily_consumption = train.groupby(['meter','date','building_id']).sum()['meter_reading'].groupby(level=[0,1]).median()\n",
    "meters_daily = {0: train_median_daily_consumption.loc[0,:].droplevel(0),\n",
    "                1: train_median_daily_consumption.loc[1,:].droplevel(0),\n",
    "                2: train_median_daily_consumption.loc[2,:].droplevel(0),\n",
    "                3: train_median_daily_consumption.loc[3,:].droplevel(0)}\n",
    "del train_median_daily_consumption\n",
    "\n",
    "# Plot median daily values\n",
    "for meter_idx in meter_types:\n",
    "    fig, axs = plt.subplots(1,1,constrained_layout=True)\n",
    "    axs.plot(meters_daily[meter_idx])\n",
    "    axs.set_title('Median Daily Meter Readings (' + str(meter_types[meter_idx]) + ')')\n",
    "    axs.set_xlabel('date')\n",
    "    axs.set_ylabel('meter reading (kWh)')\n",
    "    plt.show()"
   ]
  },
  {
   "cell_type": "markdown",
   "execution_count": null,
   "metadata": {},
   "source": [
    "# Data Cleansing"
   ]
  },
  {
   "cell_type": "markdown",
   "execution_count": null,
   "metadata": {},
   "source": [
    "Cleaning the data readings firstly requires addressing any zero values according to the following conditions based on meter type:\n",
    " 1. Electricity - if zero for that day, then remove that day\n",
    " 2. Chilled Water - if zero for that week, and week is in the winter months (i.e. week<10 or week>47)\n",
    " 3. Steam - if zero for that week, and week is in the summer months (i.e. 22<week<35)\n",
    " 4. Hot Water - if zero for that week, and week is in the summer months (i.e. 22<week<35)"
   ]
  },
  {
   "cell_type": "code",
   "execution_count": 9,
   "metadata": {},
   "outputs": [],
   "source": [
    "# Define function for handling advanced filtering by multiple columns\n",
    "def advanced_filter(df, conditions, invert=False):\n",
    "    cols = conditions.columns\n",
    "    df_as_str = df[cols].astype(str).sum(axis = 1) # cast as string\n",
    "    conditions_as_str = conditions.astype(str).sum(axis = 1) # cast as string\n",
    "    return df[df_as_str.isin(conditions_as_str)!=invert]\n"
   ]
  },
  {
   "cell_type": "code",
   "execution_count": 10,
   "metadata": {},
   "outputs": [
    {
     "name": "stdout",
     "output_type": "stream",
     "text": [
      "Percent of days where electricity meter deemed to be offline: 3.8%\n",
      "Percent of weeks where meter reading found to be offline: 3%\n"
     ]
    },
    {
     "data": {
      "text/html": [
       "<div>\n",
       "<style scoped>\n",
       "    .dataframe tbody tr th:only-of-type {\n",
       "        vertical-align: middle;\n",
       "    }\n",
       "\n",
       "    .dataframe tbody tr th {\n",
       "        vertical-align: top;\n",
       "    }\n",
       "\n",
       "    .dataframe thead th {\n",
       "        text-align: right;\n",
       "    }\n",
       "</style>\n",
       "<table border=\"1\" class=\"dataframe\">\n",
       "  <thead>\n",
       "    <tr style=\"text-align: right;\">\n",
       "      <th></th>\n",
       "      <th>building_id</th>\n",
       "      <th>meter</th>\n",
       "      <th>meter_reading</th>\n",
       "      <th>site_id</th>\n",
       "      <th>primary_use</th>\n",
       "      <th>square_feet</th>\n",
       "      <th>year_built</th>\n",
       "      <th>floor_count</th>\n",
       "      <th>air_temperature</th>\n",
       "      <th>cloud_coverage</th>\n",
       "      <th>...</th>\n",
       "      <th>wind_direction</th>\n",
       "      <th>wind_speed</th>\n",
       "      <th>date</th>\n",
       "      <th>year</th>\n",
       "      <th>month</th>\n",
       "      <th>hour</th>\n",
       "      <th>week</th>\n",
       "      <th>day_of_week</th>\n",
       "      <th>week_day</th>\n",
       "      <th>holiday</th>\n",
       "    </tr>\n",
       "  </thead>\n",
       "  <tbody>\n",
       "    <tr>\n",
       "      <th>20</th>\n",
       "      <td>20</td>\n",
       "      <td>0</td>\n",
       "      <td>0.000000</td>\n",
       "      <td>0</td>\n",
       "      <td>0</td>\n",
       "      <td>110272</td>\n",
       "      <td>1977</td>\n",
       "      <td>0</td>\n",
       "      <td>25.0</td>\n",
       "      <td>6</td>\n",
       "      <td>...</td>\n",
       "      <td>0</td>\n",
       "      <td>0.0</td>\n",
       "      <td>2016-01-01</td>\n",
       "      <td>2016</td>\n",
       "      <td>1</td>\n",
       "      <td>0</td>\n",
       "      <td>53</td>\n",
       "      <td>4</td>\n",
       "      <td>1</td>\n",
       "      <td>1</td>\n",
       "    </tr>\n",
       "    <tr>\n",
       "      <th>45</th>\n",
       "      <td>46</td>\n",
       "      <td>0</td>\n",
       "      <td>53.239700</td>\n",
       "      <td>0</td>\n",
       "      <td>11</td>\n",
       "      <td>9045</td>\n",
       "      <td>2016</td>\n",
       "      <td>0</td>\n",
       "      <td>25.0</td>\n",
       "      <td>6</td>\n",
       "      <td>...</td>\n",
       "      <td>0</td>\n",
       "      <td>0.0</td>\n",
       "      <td>2016-01-01</td>\n",
       "      <td>2016</td>\n",
       "      <td>1</td>\n",
       "      <td>0</td>\n",
       "      <td>53</td>\n",
       "      <td>4</td>\n",
       "      <td>1</td>\n",
       "      <td>1</td>\n",
       "    </tr>\n",
       "    <tr>\n",
       "      <th>52</th>\n",
       "      <td>54</td>\n",
       "      <td>0</td>\n",
       "      <td>0.000000</td>\n",
       "      <td>0</td>\n",
       "      <td>0</td>\n",
       "      <td>7867</td>\n",
       "      <td>2011</td>\n",
       "      <td>0</td>\n",
       "      <td>25.0</td>\n",
       "      <td>6</td>\n",
       "      <td>...</td>\n",
       "      <td>0</td>\n",
       "      <td>0.0</td>\n",
       "      <td>2016-01-01</td>\n",
       "      <td>2016</td>\n",
       "      <td>1</td>\n",
       "      <td>0</td>\n",
       "      <td>53</td>\n",
       "      <td>4</td>\n",
       "      <td>1</td>\n",
       "      <td>1</td>\n",
       "    </tr>\n",
       "    <tr>\n",
       "      <th>68</th>\n",
       "      <td>70</td>\n",
       "      <td>0</td>\n",
       "      <td>0.000000</td>\n",
       "      <td>0</td>\n",
       "      <td>8</td>\n",
       "      <td>387638</td>\n",
       "      <td>2007</td>\n",
       "      <td>0</td>\n",
       "      <td>25.0</td>\n",
       "      <td>6</td>\n",
       "      <td>...</td>\n",
       "      <td>0</td>\n",
       "      <td>0.0</td>\n",
       "      <td>2016-01-01</td>\n",
       "      <td>2016</td>\n",
       "      <td>1</td>\n",
       "      <td>0</td>\n",
       "      <td>53</td>\n",
       "      <td>4</td>\n",
       "      <td>1</td>\n",
       "      <td>1</td>\n",
       "    </tr>\n",
       "    <tr>\n",
       "      <th>72</th>\n",
       "      <td>74</td>\n",
       "      <td>0</td>\n",
       "      <td>43.001301</td>\n",
       "      <td>0</td>\n",
       "      <td>8</td>\n",
       "      <td>387638</td>\n",
       "      <td>1997</td>\n",
       "      <td>0</td>\n",
       "      <td>25.0</td>\n",
       "      <td>6</td>\n",
       "      <td>...</td>\n",
       "      <td>0</td>\n",
       "      <td>0.0</td>\n",
       "      <td>2016-01-01</td>\n",
       "      <td>2016</td>\n",
       "      <td>1</td>\n",
       "      <td>0</td>\n",
       "      <td>53</td>\n",
       "      <td>4</td>\n",
       "      <td>1</td>\n",
       "      <td>1</td>\n",
       "    </tr>\n",
       "    <tr>\n",
       "      <th>...</th>\n",
       "      <td>...</td>\n",
       "      <td>...</td>\n",
       "      <td>...</td>\n",
       "      <td>...</td>\n",
       "      <td>...</td>\n",
       "      <td>...</td>\n",
       "      <td>...</td>\n",
       "      <td>...</td>\n",
       "      <td>...</td>\n",
       "      <td>...</td>\n",
       "      <td>...</td>\n",
       "      <td>...</td>\n",
       "      <td>...</td>\n",
       "      <td>...</td>\n",
       "      <td>...</td>\n",
       "      <td>...</td>\n",
       "      <td>...</td>\n",
       "      <td>...</td>\n",
       "      <td>...</td>\n",
       "      <td>...</td>\n",
       "      <td>...</td>\n",
       "    </tr>\n",
       "    <tr>\n",
       "      <th>20125600</th>\n",
       "      <td>1400</td>\n",
       "      <td>1</td>\n",
       "      <td>15.375300</td>\n",
       "      <td>15</td>\n",
       "      <td>4</td>\n",
       "      <td>21168</td>\n",
       "      <td>1928</td>\n",
       "      <td>0</td>\n",
       "      <td>1.7</td>\n",
       "      <td>255</td>\n",
       "      <td>...</td>\n",
       "      <td>0</td>\n",
       "      <td>0.0</td>\n",
       "      <td>2016-03-24</td>\n",
       "      <td>2016</td>\n",
       "      <td>3</td>\n",
       "      <td>12</td>\n",
       "      <td>12</td>\n",
       "      <td>3</td>\n",
       "      <td>1</td>\n",
       "      <td>0</td>\n",
       "    </tr>\n",
       "    <tr>\n",
       "      <th>20125601</th>\n",
       "      <td>1400</td>\n",
       "      <td>1</td>\n",
       "      <td>25.084801</td>\n",
       "      <td>15</td>\n",
       "      <td>4</td>\n",
       "      <td>21168</td>\n",
       "      <td>1928</td>\n",
       "      <td>0</td>\n",
       "      <td>2.8</td>\n",
       "      <td>255</td>\n",
       "      <td>...</td>\n",
       "      <td>320</td>\n",
       "      <td>1.5</td>\n",
       "      <td>2016-03-24</td>\n",
       "      <td>2016</td>\n",
       "      <td>3</td>\n",
       "      <td>13</td>\n",
       "      <td>12</td>\n",
       "      <td>3</td>\n",
       "      <td>1</td>\n",
       "      <td>0</td>\n",
       "    </tr>\n",
       "    <tr>\n",
       "      <th>20125602</th>\n",
       "      <td>1400</td>\n",
       "      <td>1</td>\n",
       "      <td>32.343899</td>\n",
       "      <td>15</td>\n",
       "      <td>4</td>\n",
       "      <td>21168</td>\n",
       "      <td>1928</td>\n",
       "      <td>0</td>\n",
       "      <td>5.6</td>\n",
       "      <td>255</td>\n",
       "      <td>...</td>\n",
       "      <td>110</td>\n",
       "      <td>2.1</td>\n",
       "      <td>2016-03-24</td>\n",
       "      <td>2016</td>\n",
       "      <td>3</td>\n",
       "      <td>14</td>\n",
       "      <td>12</td>\n",
       "      <td>3</td>\n",
       "      <td>1</td>\n",
       "      <td>0</td>\n",
       "    </tr>\n",
       "    <tr>\n",
       "      <th>20125603</th>\n",
       "      <td>1400</td>\n",
       "      <td>1</td>\n",
       "      <td>24.221399</td>\n",
       "      <td>15</td>\n",
       "      <td>4</td>\n",
       "      <td>21168</td>\n",
       "      <td>1928</td>\n",
       "      <td>0</td>\n",
       "      <td>11.1</td>\n",
       "      <td>255</td>\n",
       "      <td>...</td>\n",
       "      <td>150</td>\n",
       "      <td>5.1</td>\n",
       "      <td>2016-03-24</td>\n",
       "      <td>2016</td>\n",
       "      <td>3</td>\n",
       "      <td>15</td>\n",
       "      <td>12</td>\n",
       "      <td>3</td>\n",
       "      <td>1</td>\n",
       "      <td>0</td>\n",
       "    </tr>\n",
       "    <tr>\n",
       "      <th>20125604</th>\n",
       "      <td>1400</td>\n",
       "      <td>1</td>\n",
       "      <td>16.355301</td>\n",
       "      <td>15</td>\n",
       "      <td>4</td>\n",
       "      <td>21168</td>\n",
       "      <td>1928</td>\n",
       "      <td>0</td>\n",
       "      <td>15.0</td>\n",
       "      <td>4</td>\n",
       "      <td>...</td>\n",
       "      <td>160</td>\n",
       "      <td>8.2</td>\n",
       "      <td>2016-03-24</td>\n",
       "      <td>2016</td>\n",
       "      <td>3</td>\n",
       "      <td>16</td>\n",
       "      <td>12</td>\n",
       "      <td>3</td>\n",
       "      <td>1</td>\n",
       "      <td>0</td>\n",
       "    </tr>\n",
       "  </tbody>\n",
       "</table>\n",
       "<p>18919302 rows × 23 columns</p>\n",
       "</div>"
      ],
      "text/plain": [
       "          building_id  meter  meter_reading  site_id  primary_use  \\\n",
       "20                 20      0       0.000000        0            0   \n",
       "45                 46      0      53.239700        0           11   \n",
       "52                 54      0       0.000000        0            0   \n",
       "68                 70      0       0.000000        0            8   \n",
       "72                 74      0      43.001301        0            8   \n",
       "...               ...    ...            ...      ...          ...   \n",
       "20125600         1400      1      15.375300       15            4   \n",
       "20125601         1400      1      25.084801       15            4   \n",
       "20125602         1400      1      32.343899       15            4   \n",
       "20125603         1400      1      24.221399       15            4   \n",
       "20125604         1400      1      16.355301       15            4   \n",
       "\n",
       "          square_feet  year_built  floor_count  air_temperature  \\\n",
       "20             110272        1977            0             25.0   \n",
       "45               9045        2016            0             25.0   \n",
       "52               7867        2011            0             25.0   \n",
       "68             387638        2007            0             25.0   \n",
       "72             387638        1997            0             25.0   \n",
       "...               ...         ...          ...              ...   \n",
       "20125600        21168        1928            0              1.7   \n",
       "20125601        21168        1928            0              2.8   \n",
       "20125602        21168        1928            0              5.6   \n",
       "20125603        21168        1928            0             11.1   \n",
       "20125604        21168        1928            0             15.0   \n",
       "\n",
       "          cloud_coverage  ...  wind_direction  wind_speed        date  year  \\\n",
       "20                     6  ...               0         0.0  2016-01-01  2016   \n",
       "45                     6  ...               0         0.0  2016-01-01  2016   \n",
       "52                     6  ...               0         0.0  2016-01-01  2016   \n",
       "68                     6  ...               0         0.0  2016-01-01  2016   \n",
       "72                     6  ...               0         0.0  2016-01-01  2016   \n",
       "...                  ...  ...             ...         ...         ...   ...   \n",
       "20125600             255  ...               0         0.0  2016-03-24  2016   \n",
       "20125601             255  ...             320         1.5  2016-03-24  2016   \n",
       "20125602             255  ...             110         2.1  2016-03-24  2016   \n",
       "20125603             255  ...             150         5.1  2016-03-24  2016   \n",
       "20125604               4  ...             160         8.2  2016-03-24  2016   \n",
       "\n",
       "          month hour  week  day_of_week  week_day  holiday  \n",
       "20            1    0    53            4         1        1  \n",
       "45            1    0    53            4         1        1  \n",
       "52            1    0    53            4         1        1  \n",
       "68            1    0    53            4         1        1  \n",
       "72            1    0    53            4         1        1  \n",
       "...         ...  ...   ...          ...       ...      ...  \n",
       "20125600      3   12    12            3         1        0  \n",
       "20125601      3   13    12            3         1        0  \n",
       "20125602      3   14    12            3         1        0  \n",
       "20125603      3   15    12            3         1        0  \n",
       "20125604      3   16    12            3         1        0  \n",
       "\n",
       "[18919302 rows x 23 columns]"
      ]
     },
     "execution_count": 10,
     "metadata": {},
     "output_type": "execute_result"
    }
   ],
   "source": [
    "# Get multi-index of date + building_id where daily consumption is zero\n",
    "electricity_daily = train[train['meter']==0].groupby(['meter','date','building_id']).sum()['meter_reading']\n",
    "offline_electricity_meters = electricity_daily[electricity_daily==0]\n",
    "print('Percent of days where electricity meter deemed to be offline: ' + str(round(offline_electricity_meters.size/electricity_daily.size*100,1)) + '%')\n",
    "offline_electricity_meters = offline_electricity_meters.reset_index().drop('meter_reading',axis=1)\n",
    "offline_electricity_meters.head()\n",
    "\n",
    "# Apply filter\n",
    "train = advanced_filter(train, offline_electricity_meters, invert=True)\n",
    "\n",
    "# Get multi-index of week + building_id where weekly consumption is zero\n",
    "meters_weekly = train.groupby(['meter','week','building_id']).sum()['meter_reading']\n",
    "offline_meters_weekly = meters_weekly[meters_weekly==0]\n",
    "print('Percent of weeks where meter reading found to be offline: ' + str(round(offline_meters_weekly.size/meters_weekly.size*100)) + '%') # Note this may also include electricity meters offline days\n",
    "offline_meters_weekly = offline_meters_weekly.reset_index().drop('meter_reading',axis=1)\n",
    "offline_meters_weekly.head()\n",
    "\n",
    "# Apply filter\n",
    "train = advanced_filter(train, offline_meters_weekly, invert=True)\n",
    "    \n",
    "train\n",
    "\n"
   ]
  },
  {
   "cell_type": "markdown",
   "execution_count": null,
   "metadata": {},
   "source": [
    "Determine outlier buildings that will require separate models built"
   ]
  },
  {
   "cell_type": "code",
   "execution_count": 11,
   "metadata": {},
   "outputs": [
    {
     "name": "stdout",
     "output_type": "stream",
     "text": [
      "\n",
      "electricityreadings: \n",
      "building_id\n",
      "803     5062.820312\n",
      "801     4646.945312\n",
      "794     4098.868164\n",
      "799     3767.715576\n",
      "1088    3430.618408\n",
      "Name: meter_reading, dtype: float32\n",
      "\n",
      "chilledwaterreadings: \n",
      "building_id\n",
      "778     241997.812500\n",
      "1284      9517.801758\n",
      "1088      9511.611328\n",
      "76        8850.534180\n",
      "1258      6586.008789\n",
      "Name: meter_reading, dtype: float32\n",
      "\n",
      "steamreadings: \n",
      "building_id\n",
      "1099    3.814315e+06\n",
      "1168    4.581101e+04\n",
      "1197    4.421608e+04\n",
      "1159    3.343056e+04\n",
      "1148    2.816422e+04\n",
      "Name: meter_reading, dtype: float32\n",
      "\n",
      "hotwaterreadings: \n",
      "building_id\n",
      "1021    17336.666016\n",
      "1331     5504.666992\n",
      "794      2383.040527\n",
      "1018     1507.164185\n",
      "1323     1342.585449\n",
      "Name: meter_reading, dtype: float32\n"
     ]
    }
   ],
   "source": [
    "# Group by building_id and calculate mean meter reading\n",
    "meter_readings_by_building_id = train.groupby(['building_id','meter']).mean()['meter_reading'].sort_values(ascending=False)\n",
    "# Print first few rows per meter type\n",
    "for meter_idx in meter_types:\n",
    "    print('\\n' + meter_types[meter_idx] + 'readings: ')\n",
    "    print(meter_readings_by_building_id.loc[:,meter_idx].head())"
   ]
  },
  {
   "cell_type": "code",
   "execution_count": 12,
   "metadata": {},
   "outputs": [
    {
     "data": {
      "image/png": "[encoded data removed]",
      "text/plain": [
       "<Figure size 432x288 with 1 Axes>"
      ]
     },
     "metadata": {
      "needs_background": "light"
     },
     "output_type": "display_data"
    },
    {
     "data": {
      "image/png": "[encoded data removed]",
      "text/plain": [
       "<Figure size 432x288 with 1 Axes>"
      ]
     },
     "metadata": {
      "needs_background": "light"
     },
     "output_type": "display_data"
    },
    {
     "data": {
      "image/png": "[encoded data removed]",
      "text/plain": [
       "<Figure size 432x288 with 1 Axes>"
      ]
     },
     "metadata": {
      "needs_background": "light"
     },
     "output_type": "display_data"
    },
    {
     "data": {
      "image/png": "[encoded data removed]",
      "text/plain": [
       "<Figure size 432x288 with 1 Axes>"
      ]
     },
     "metadata": {
      "needs_background": "light"
     },
     "output_type": "display_data"
    }
   ],
   "source": [
    "# Plot mean meter read per building\n",
    "for meter_idx in meter_types:\n",
    "    fig, axs = plt.subplots(1,1)\n",
    "    axs.bar(meter_readings_by_building_id.loc[:,meter_idx].index, meter_readings_by_building_id.loc[:,meter_idx], width=5)\n",
    "    axs.set_title('mean ' + meter_types[meter_idx] + ' meter readings per building')\n",
    "    axs.set_xlabel('building_id')\n",
    "    axs.set_ylabel('mean meter reading (kWh)')\n",
    "    plt.show()"
   ]
  },
  {
   "cell_type": "markdown",
   "execution_count": null,
   "metadata": {},
   "source": [
    "As a result of the above breakdown showing evidence that some buildings have readings orders of magnitude above the rest, the following buildings will have their own separate models built:\n",
    "* building 778: chilledwater\n",
    "* building 1099: steam\n",
    "* building 1021: hotwater"
   ]
  },
  {
   "cell_type": "code",
   "execution_count": 13,
   "metadata": {},
   "outputs": [],
   "source": [
    "# Define outlier buildings & associated meters\n",
    "outlier_meters = pd.DataFrame({'building_id': [778, 1099, 1021],\n",
    "                               'meter': [1, 2, 3]})\n",
    "\n",
    "# Create training data for these outlier meters\n",
    "outlier_train = advanced_filter(train, outlier_meters)\n",
    "\n",
    "# Remove from the other train data\n",
    "train = advanced_filter(train, outlier_meters, invert=True)\n"
   ]
  },
  {
   "cell_type": "markdown",
   "execution_count": null,
   "metadata": {},
   "source": [
    "Convert site 0 electrical meter from kBTU to kWh for training as per https://www.kaggle.com/c/ashrae-energy-prediction/discussion/119261 (Multiply by 0.2931)."
   ]
  },
  {
   "cell_type": "code",
   "execution_count": 14,
   "metadata": {},
   "outputs": [
    {
     "name": "stderr",
     "output_type": "stream",
     "text": [
      "/opt/conda/lib/python3.6/site-packages/ipykernel_launcher.py:2: SettingWithCopyWarning: \n",
      "A value is trying to be set on a copy of a slice from a DataFrame.\n",
      "Try using .loc[row_indexer,col_indexer] = value instead\n",
      "\n",
      "See the caveats in the documentation: http://pandas.pydata.org/pandas-docs/stable/user_guide/indexing.html#returning-a-view-versus-a-copy\n",
      "  \n"
     ]
    }
   ],
   "source": [
    "site_0_elec_bool = (train['meter']==0) & (train['site_id']==0)\n",
    "train.loc[site_0_elec_bool]['meter_reading'] = train.loc[site_0_elec_bool]['meter_reading']*0.2931"
   ]
  },
  {
   "cell_type": "markdown",
   "execution_count": null,
   "metadata": {},
   "source": [
    "# Train"
   ]
  },
  {
   "cell_type": "code",
   "execution_count": 15,
   "metadata": {},
   "outputs": [],
   "source": [
    "# Define X / Y columns\n",
    "X_features = ['building_id', 'meter', 'site_id', 'primary_use', 'square_feet', 'year_built', 'floor_count',  'air_temperature', 'dew_temperature', 'precip_depth_1_hr', 'month', 'hour', 'day_of_week', 'holiday']\n",
    "y_target = ['meter_reading']\n",
    "# Create data for main model\n",
    "X_train = train[X_features]\n",
    "y_train = train[y_target]\n",
    "# Create data for outlier model\n",
    "X_outlier_train = outlier_train[X_features]\n",
    "y_outlier_train = outlier_train[y_target]\n",
    "# Remove redundant data\n",
    "del train, outlier_train"
   ]
  },
  {
   "cell_type": "markdown",
   "execution_count": null,
   "metadata": {},
   "source": [
    "**Step 1: Find optimum number of trees for some base initial conditions**"
   ]
  },
  {
   "cell_type": "code",
   "execution_count": 16,
   "metadata": {},
   "outputs": [],
   "source": [
    "# Define XGBoost Wrapper for Cross-Validation\n",
    "def xgb_wrapper(learning_rate, max_depth, gamma, n_estimators, subsample):\n",
    "    # Split data for cross-validation\n",
    "    kf = KFold(n_splits=3, random_state=0, shuffle=True)\n",
    "    # Loop through splits\n",
    "    rmsle = []\n",
    "    for train_split_index, test_split_index in kf.split(X_train):\n",
    "        # Create Data Matrixes\n",
    "        dtrain_split = xgb.DMatrix(data=X_train.iloc[train_split_index], label=y_train.iloc[train_split_index])\n",
    "        dtest_split = xgb.DMatrix(X_train.iloc[test_split_index])\n",
    "        # Define XGBRegressor parameters\n",
    "        xgb_params = {\n",
    "            'eval_metric': 'rmse',\n",
    "            'tree_method': 'gpu_hist',\n",
    "            \"learning_rate\": learning_rate,\n",
    "            \"max_detph\": max_depth,\n",
    "            \"gamma\": gamma,\n",
    "            \"subsample\": subsample}\n",
    "        # Train XGBoost Model & make predictions\n",
    "        print('\\nCreating new model: ')\n",
    "        print(xgb_params)\n",
    "        xgb_reg = xgb.train(xgb_params, dtrain_split, n_estimators)\n",
    "        predictions = xgb_reg.predict(dtest_split)\n",
    "        predictions[predictions < 0] = 0 # set negative predictions to zero\n",
    "        # Calculate Evaluation Metrix (Root Mean Squared Logarithmic Error - RMSLE)\n",
    "        model_rmsle = np.sqrt(mean_squared_log_error(y_train.iloc[test_split_index], predictions))\n",
    "        print('RMSLE: '+ str(model_rmsle))\n",
    "        rmsle.append(model_rmsle)\n",
    "        # Clear memory\n",
    "        del dtrain_split, dtest_split, xgb_reg\n",
    "        gc.collect()\n",
    "    # Return evaluation metrix\n",
    "        print(rmsle)\n",
    "    cv_result = np.array(rmsle).mean()\n",
    "    return cv_result\n"
   ]
  },
  {
   "cell_type": "code",
   "execution_count": 17,
   "metadata": {},
   "outputs": [
    {
     "name": "stdout",
     "output_type": "stream",
     "text": [
      "\n",
      "****************** Performing CV for n_estimators=100 ******************\n",
      "\n",
      "Creating new model: \n",
      "{'eval_metric': 'rmse', 'tree_method': 'gpu_hist', 'learning_rate': 0.1, 'max_detph': 5, 'gamma': 0.1, 'subsample': 0.8}\n",
      "RMSLE: 1.6012603\n",
      "[1.6012603]\n",
      "\n",
      "Creating new model: \n",
      "{'eval_metric': 'rmse', 'tree_method': 'gpu_hist', 'learning_rate': 0.1, 'max_detph': 5, 'gamma': 0.1, 'subsample': 0.8}\n",
      "RMSLE: 1.6316111\n",
      "[1.6012603, 1.6316111]\n",
      "\n",
      "Creating new model: \n",
      "{'eval_metric': 'rmse', 'tree_method': 'gpu_hist', 'learning_rate': 0.1, 'max_detph': 5, 'gamma': 0.1, 'subsample': 0.8}\n",
      "RMSLE: 1.6083459\n",
      "[1.6012603, 1.6316111, 1.6083459]\n",
      "{100: 1.6137391}\n",
      "\n",
      "****************** Performing CV for n_estimators=200 ******************\n",
      "\n",
      "Creating new model: \n",
      "{'eval_metric': 'rmse', 'tree_method': 'gpu_hist', 'learning_rate': 0.1, 'max_detph': 5, 'gamma': 0.1, 'subsample': 0.8}\n",
      "RMSLE: 1.5374151\n",
      "[1.5374151]\n",
      "\n",
      "Creating new model: \n",
      "{'eval_metric': 'rmse', 'tree_method': 'gpu_hist', 'learning_rate': 0.1, 'max_detph': 5, 'gamma': 0.1, 'subsample': 0.8}\n",
      "RMSLE: 1.5656408\n",
      "[1.5374151, 1.5656408]\n",
      "\n",
      "Creating new model: \n",
      "{'eval_metric': 'rmse', 'tree_method': 'gpu_hist', 'learning_rate': 0.1, 'max_detph': 5, 'gamma': 0.1, 'subsample': 0.8}\n",
      "RMSLE: 1.5518537\n",
      "[1.5374151, 1.5656408, 1.5518537]\n",
      "{100: 1.6137391, 200: 1.5516366}\n",
      "\n",
      "****************** Performing CV for n_estimators=300 ******************\n",
      "\n",
      "Creating new model: \n",
      "{'eval_metric': 'rmse', 'tree_method': 'gpu_hist', 'learning_rate': 0.1, 'max_detph': 5, 'gamma': 0.1, 'subsample': 0.8}\n",
      "RMSLE: 1.5089381\n",
      "[1.5089381]\n",
      "\n",
      "Creating new model: \n",
      "{'eval_metric': 'rmse', 'tree_method': 'gpu_hist', 'learning_rate': 0.1, 'max_detph': 5, 'gamma': 0.1, 'subsample': 0.8}\n",
      "RMSLE: 1.514413\n",
      "[1.5089381, 1.514413]\n",
      "\n",
      "Creating new model: \n",
      "{'eval_metric': 'rmse', 'tree_method': 'gpu_hist', 'learning_rate': 0.1, 'max_detph': 5, 'gamma': 0.1, 'subsample': 0.8}\n",
      "RMSLE: 1.5158939\n",
      "[1.5089381, 1.514413, 1.5158939]\n",
      "{100: 1.6137391, 200: 1.5516366, 300: 1.5130817}\n",
      "\n",
      "****************** Performing CV for n_estimators=400 ******************\n",
      "\n",
      "Creating new model: \n",
      "{'eval_metric': 'rmse', 'tree_method': 'gpu_hist', 'learning_rate': 0.1, 'max_detph': 5, 'gamma': 0.1, 'subsample': 0.8}\n",
      "RMSLE: 1.4876633\n",
      "[1.4876633]\n",
      "\n",
      "Creating new model: \n",
      "{'eval_metric': 'rmse', 'tree_method': 'gpu_hist', 'learning_rate': 0.1, 'max_detph': 5, 'gamma': 0.1, 'subsample': 0.8}\n",
      "RMSLE: 1.4994658\n",
      "[1.4876633, 1.4994658]\n",
      "\n",
      "Creating new model: \n",
      "{'eval_metric': 'rmse', 'tree_method': 'gpu_hist', 'learning_rate': 0.1, 'max_detph': 5, 'gamma': 0.1, 'subsample': 0.8}\n",
      "RMSLE: 1.4901954\n",
      "[1.4876633, 1.4994658, 1.4901954]\n",
      "{100: 1.6137391, 200: 1.5516366, 300: 1.5130817, 400: 1.4924415}\n",
      "\n",
      "****************** Performing CV for n_estimators=500 ******************\n",
      "\n",
      "Creating new model: \n",
      "{'eval_metric': 'rmse', 'tree_method': 'gpu_hist', 'learning_rate': 0.1, 'max_detph': 5, 'gamma': 0.1, 'subsample': 0.8}\n",
      "RMSLE: 1.4688289\n",
      "[1.4688289]\n",
      "\n",
      "Creating new model: \n",
      "{'eval_metric': 'rmse', 'tree_method': 'gpu_hist', 'learning_rate': 0.1, 'max_detph': 5, 'gamma': 0.1, 'subsample': 0.8}\n",
      "RMSLE: 1.475028\n",
      "[1.4688289, 1.475028]\n",
      "\n",
      "Creating new model: \n",
      "{'eval_metric': 'rmse', 'tree_method': 'gpu_hist', 'learning_rate': 0.1, 'max_detph': 5, 'gamma': 0.1, 'subsample': 0.8}\n",
      "RMSLE: 1.4753531\n",
      "[1.4688289, 1.475028, 1.4753531]\n",
      "{100: 1.6137391, 200: 1.5516366, 300: 1.5130817, 400: 1.4924415, 500: 1.47307}\n",
      "\n",
      "****************** Performing CV for n_estimators=600 ******************\n",
      "\n",
      "Creating new model: \n",
      "{'eval_metric': 'rmse', 'tree_method': 'gpu_hist', 'learning_rate': 0.1, 'max_detph': 5, 'gamma': 0.1, 'subsample': 0.8}\n",
      "RMSLE: 1.4564794\n",
      "[1.4564794]\n",
      "\n",
      "Creating new model: \n",
      "{'eval_metric': 'rmse', 'tree_method': 'gpu_hist', 'learning_rate': 0.1, 'max_detph': 5, 'gamma': 0.1, 'subsample': 0.8}\n",
      "RMSLE: 1.4640397\n",
      "[1.4564794, 1.4640397]\n",
      "\n",
      "Creating new model: \n",
      "{'eval_metric': 'rmse', 'tree_method': 'gpu_hist', 'learning_rate': 0.1, 'max_detph': 5, 'gamma': 0.1, 'subsample': 0.8}\n",
      "RMSLE: 1.4607971\n",
      "[1.4564794, 1.4640397, 1.4607971]\n",
      "{100: 1.6137391, 200: 1.5516366, 300: 1.5130817, 400: 1.4924415, 500: 1.47307, 600: 1.4604387}\n",
      "\n",
      "****************** Performing CV for n_estimators=700 ******************\n",
      "\n",
      "Creating new model: \n",
      "{'eval_metric': 'rmse', 'tree_method': 'gpu_hist', 'learning_rate': 0.1, 'max_detph': 5, 'gamma': 0.1, 'subsample': 0.8}\n",
      "RMSLE: 1.4469817\n",
      "[1.4469817]\n",
      "\n",
      "Creating new model: \n",
      "{'eval_metric': 'rmse', 'tree_method': 'gpu_hist', 'learning_rate': 0.1, 'max_detph': 5, 'gamma': 0.1, 'subsample': 0.8}\n",
      "RMSLE: 1.4472035\n",
      "[1.4469817, 1.4472035]\n",
      "\n",
      "Creating new model: \n",
      "{'eval_metric': 'rmse', 'tree_method': 'gpu_hist', 'learning_rate': 0.1, 'max_detph': 5, 'gamma': 0.1, 'subsample': 0.8}\n",
      "RMSLE: 1.4574505\n",
      "[1.4469817, 1.4472035, 1.4574505]\n",
      "{100: 1.6137391, 200: 1.5516366, 300: 1.5130817, 400: 1.4924415, 500: 1.47307, 600: 1.4604387, 700: 1.4505452}\n",
      "\n",
      "****************** Performing CV for n_estimators=800 ******************\n",
      "\n",
      "Creating new model: \n",
      "{'eval_metric': 'rmse', 'tree_method': 'gpu_hist', 'learning_rate': 0.1, 'max_detph': 5, 'gamma': 0.1, 'subsample': 0.8}\n",
      "RMSLE: 1.4363375\n",
      "[1.4363375]\n",
      "\n",
      "Creating new model: \n",
      "{'eval_metric': 'rmse', 'tree_method': 'gpu_hist', 'learning_rate': 0.1, 'max_detph': 5, 'gamma': 0.1, 'subsample': 0.8}\n",
      "RMSLE: 1.4349891\n",
      "[1.4363375, 1.4349891]\n",
      "\n",
      "Creating new model: \n",
      "{'eval_metric': 'rmse', 'tree_method': 'gpu_hist', 'learning_rate': 0.1, 'max_detph': 5, 'gamma': 0.1, 'subsample': 0.8}\n",
      "RMSLE: 1.4518031\n",
      "[1.4363375, 1.4349891, 1.4518031]\n",
      "{100: 1.6137391, 200: 1.5516366, 300: 1.5130817, 400: 1.4924415, 500: 1.47307, 600: 1.4604387, 700: 1.4505452, 800: 1.4410433}\n",
      "\n",
      "****************** Performing CV for n_estimators=900 ******************\n",
      "\n",
      "Creating new model: \n",
      "{'eval_metric': 'rmse', 'tree_method': 'gpu_hist', 'learning_rate': 0.1, 'max_detph': 5, 'gamma': 0.1, 'subsample': 0.8}\n",
      "RMSLE: 1.4306481\n",
      "[1.4306481]\n",
      "\n",
      "Creating new model: \n",
      "{'eval_metric': 'rmse', 'tree_method': 'gpu_hist', 'learning_rate': 0.1, 'max_detph': 5, 'gamma': 0.1, 'subsample': 0.8}\n",
      "RMSLE: 1.4302297\n",
      "[1.4306481, 1.4302297]\n",
      "\n",
      "Creating new model: \n",
      "{'eval_metric': 'rmse', 'tree_method': 'gpu_hist', 'learning_rate': 0.1, 'max_detph': 5, 'gamma': 0.1, 'subsample': 0.8}\n",
      "RMSLE: 1.4465525\n",
      "[1.4306481, 1.4302297, 1.4465525]\n",
      "{100: 1.6137391, 200: 1.5516366, 300: 1.5130817, 400: 1.4924415, 500: 1.47307, 600: 1.4604387, 700: 1.4505452, 800: 1.4410433, 900: 1.4358101}\n",
      "\n",
      "****************** Performing CV for n_estimators=1000 ******************\n",
      "\n",
      "Creating new model: \n",
      "{'eval_metric': 'rmse', 'tree_method': 'gpu_hist', 'learning_rate': 0.1, 'max_detph': 5, 'gamma': 0.1, 'subsample': 0.8}\n",
      "RMSLE: 1.4255207\n",
      "[1.4255207]\n",
      "\n",
      "Creating new model: \n",
      "{'eval_metric': 'rmse', 'tree_method': 'gpu_hist', 'learning_rate': 0.1, 'max_detph': 5, 'gamma': 0.1, 'subsample': 0.8}\n",
      "RMSLE: 1.4247535\n",
      "[1.4255207, 1.4247535]\n",
      "\n",
      "Creating new model: \n",
      "{'eval_metric': 'rmse', 'tree_method': 'gpu_hist', 'learning_rate': 0.1, 'max_detph': 5, 'gamma': 0.1, 'subsample': 0.8}\n",
      "RMSLE: 1.432968\n",
      "[1.4255207, 1.4247535, 1.432968]\n",
      "{100: 1.6137391, 200: 1.5516366, 300: 1.5130817, 400: 1.4924415, 500: 1.47307, 600: 1.4604387, 700: 1.4505452, 800: 1.4410433, 900: 1.4358101, 1000: 1.4277474}\n"
     ]
    }
   ],
   "source": [
    "cv_results = {}\n",
    "# Find optimum n_estimators\n",
    "n_estimators_range = list(range(100,1001,100))\n",
    "for n_estimators in n_estimators_range:\n",
    "    gc.collect()\n",
    "    print('\\n****************** Performing CV for n_estimators=' + str(n_estimators)+' ******************')\n",
    "    cv_result = xgb_wrapper(0.1, 5, 0.1, n_estimators, 0.8)\n",
    "    cv_results.update({n_estimators: cv_result})\n",
    "    print(cv_results)"
   ]
  },
  {
   "cell_type": "code",
   "execution_count": 18,
   "metadata": {},
   "outputs": [
    {
     "data": {
      "image/png": "[encoded data removed]",
      "text/plain": [
       "<Figure size 432x288 with 1 Axes>"
      ]
     },
     "metadata": {
      "needs_background": "light"
     },
     "output_type": "display_data"
    }
   ],
   "source": [
    "\n",
    "plt.plot(list(cv_results.keys()),list(cv_results.values()))\n",
    "plt.xlabel('n_estimators')\n",
    "plt.ylabel('rmse')\n",
    "\n",
    "plt.show()"
   ]
  },
  {
   "cell_type": "markdown",
   "execution_count": null,
   "metadata": {},
   "source": [
    "**Step 2: Find optimum max depth & min_child_weight for some best n_estimators=1,000**"
   ]
  },
  {
   "cell_type": "code",
   "execution_count": 19,
   "metadata": {},
   "outputs": [
    {
     "name": "stdout",
     "output_type": "stream",
     "text": [
      "\n",
      "****************** Performing CV for max_depth=3 ******************\n",
      "\n",
      "Creating new model: \n",
      "{'eval_metric': 'rmse', 'tree_method': 'gpu_hist', 'learning_rate': 0.1, 'max_detph': 3, 'gamma': 0.1, 'subsample': 0.8}\n",
      "RMSLE: 1.4264503\n",
      "[1.4264503]\n",
      "\n",
      "Creating new model: \n",
      "{'eval_metric': 'rmse', 'tree_method': 'gpu_hist', 'learning_rate': 0.1, 'max_detph': 3, 'gamma': 0.1, 'subsample': 0.8}\n",
      "RMSLE: 1.4337454\n",
      "[1.4264503, 1.4337454]\n",
      "\n",
      "Creating new model: \n",
      "{'eval_metric': 'rmse', 'tree_method': 'gpu_hist', 'learning_rate': 0.1, 'max_detph': 3, 'gamma': 0.1, 'subsample': 0.8}\n",
      "RMSLE: 1.4401866\n",
      "[1.4264503, 1.4337454, 1.4401866]\n",
      "{3: 1.4334607}\n",
      "\n",
      "****************** Performing CV for max_depth=4 ******************\n",
      "\n",
      "Creating new model: \n",
      "{'eval_metric': 'rmse', 'tree_method': 'gpu_hist', 'learning_rate': 0.1, 'max_detph': 4, 'gamma': 0.1, 'subsample': 0.8}\n",
      "RMSLE: 1.4272664\n",
      "[1.4272664]\n",
      "\n",
      "Creating new model: \n",
      "{'eval_metric': 'rmse', 'tree_method': 'gpu_hist', 'learning_rate': 0.1, 'max_detph': 4, 'gamma': 0.1, 'subsample': 0.8}\n",
      "RMSLE: 1.4220902\n",
      "[1.4272664, 1.4220902]\n",
      "\n",
      "Creating new model: \n",
      "{'eval_metric': 'rmse', 'tree_method': 'gpu_hist', 'learning_rate': 0.1, 'max_detph': 4, 'gamma': 0.1, 'subsample': 0.8}\n",
      "RMSLE: 1.4368356\n",
      "[1.4272664, 1.4220902, 1.4368356]\n",
      "{3: 1.4334607, 4: 1.4287308}\n",
      "\n",
      "****************** Performing CV for max_depth=5 ******************\n",
      "\n",
      "Creating new model: \n",
      "{'eval_metric': 'rmse', 'tree_method': 'gpu_hist', 'learning_rate': 0.1, 'max_detph': 5, 'gamma': 0.1, 'subsample': 0.8}\n",
      "RMSLE: 1.4220941\n",
      "[1.4220941]\n",
      "\n",
      "Creating new model: \n",
      "{'eval_metric': 'rmse', 'tree_method': 'gpu_hist', 'learning_rate': 0.1, 'max_detph': 5, 'gamma': 0.1, 'subsample': 0.8}\n",
      "RMSLE: 1.4228374\n",
      "[1.4220941, 1.4228374]\n",
      "\n",
      "Creating new model: \n",
      "{'eval_metric': 'rmse', 'tree_method': 'gpu_hist', 'learning_rate': 0.1, 'max_detph': 5, 'gamma': 0.1, 'subsample': 0.8}\n",
      "RMSLE: 1.4327786\n",
      "[1.4220941, 1.4228374, 1.4327786]\n",
      "{3: 1.4334607, 4: 1.4287308, 5: 1.4259033}\n",
      "\n",
      "****************** Performing CV for max_depth=6 ******************\n",
      "\n",
      "Creating new model: \n",
      "{'eval_metric': 'rmse', 'tree_method': 'gpu_hist', 'learning_rate': 0.1, 'max_detph': 6, 'gamma': 0.1, 'subsample': 0.8}\n",
      "RMSLE: 1.4250338\n",
      "[1.4250338]\n",
      "\n",
      "Creating new model: \n",
      "{'eval_metric': 'rmse', 'tree_method': 'gpu_hist', 'learning_rate': 0.1, 'max_detph': 6, 'gamma': 0.1, 'subsample': 0.8}\n",
      "RMSLE: 1.4220898\n",
      "[1.4250338, 1.4220898]\n",
      "\n",
      "Creating new model: \n",
      "{'eval_metric': 'rmse', 'tree_method': 'gpu_hist', 'learning_rate': 0.1, 'max_detph': 6, 'gamma': 0.1, 'subsample': 0.8}\n",
      "RMSLE: 1.4409814\n",
      "[1.4250338, 1.4220898, 1.4409814]\n",
      "{3: 1.4334607, 4: 1.4287308, 5: 1.4259033, 6: 1.4293684}\n"
     ]
    }
   ],
   "source": [
    "# Find optimum value for max_depth\n",
    "max_depth_range = list(range(3,7))\n",
    "max_depth_cv_result = {}\n",
    "for max_depth in max_depth_range:\n",
    "    gc.collect()\n",
    "    print('\\n****************** Performing CV for max_depth=' + str(max_depth)+' ******************')\n",
    "    cv_result = xgb_wrapper(0.1, max_depth, 0.1, 1000, 0.8)\n",
    "    max_depth_cv_result.update({max_depth: cv_result})\n",
    "    print(max_depth_cv_result)"
   ]
  },
  {
   "cell_type": "code",
   "execution_count": 20,
   "metadata": {},
   "outputs": [
    {
     "data": {
      "image/png": "[encoded data removed]",
      "text/plain": [
       "<Figure size 432x288 with 1 Axes>"
      ]
     },
     "metadata": {
      "needs_background": "light"
     },
     "output_type": "display_data"
    }
   ],
   "source": [
    "\n",
    "plt.plot(list(max_depth_cv_result.keys()),list(max_depth_cv_result.values()))\n",
    "plt.xlabel('max_depth')\n",
    "plt.ylabel('rmse')\n",
    "\n",
    "plt.show()"
   ]
  },
  {
   "cell_type": "code",
   "execution_count": 21,
   "metadata": {},
   "outputs": [
    {
     "name": "stdout",
     "output_type": "stream",
     "text": [
      "\n",
      "****************** Performing CV for gamma=0.0 ******************\n",
      "\n",
      "Creating new model: \n",
      "{'eval_metric': 'rmse', 'tree_method': 'gpu_hist', 'learning_rate': 0.1, 'max_detph': 3, 'gamma': 0.0, 'subsample': 0.8}\n",
      "RMSLE: 1.4255188\n",
      "[1.4255188]\n",
      "\n",
      "Creating new model: \n",
      "{'eval_metric': 'rmse', 'tree_method': 'gpu_hist', 'learning_rate': 0.1, 'max_detph': 3, 'gamma': 0.0, 'subsample': 0.8}\n",
      "RMSLE: 1.4328978\n",
      "[1.4255188, 1.4328978]\n",
      "\n",
      "Creating new model: \n",
      "{'eval_metric': 'rmse', 'tree_method': 'gpu_hist', 'learning_rate': 0.1, 'max_detph': 3, 'gamma': 0.0, 'subsample': 0.8}\n",
      "RMSLE: 1.4328237\n",
      "[1.4255188, 1.4328978, 1.4328237]\n",
      "{0.0: 1.4304134}\n",
      "\n",
      "****************** Performing CV for gamma=0.05 ******************\n",
      "\n",
      "Creating new model: \n",
      "{'eval_metric': 'rmse', 'tree_method': 'gpu_hist', 'learning_rate': 0.1, 'max_detph': 3, 'gamma': 0.05, 'subsample': 0.8}\n",
      "RMSLE: 1.4251498\n",
      "[1.4251498]\n",
      "\n",
      "Creating new model: \n",
      "{'eval_metric': 'rmse', 'tree_method': 'gpu_hist', 'learning_rate': 0.1, 'max_detph': 3, 'gamma': 0.05, 'subsample': 0.8}\n",
      "RMSLE: 1.4231462\n",
      "[1.4251498, 1.4231462]\n",
      "\n",
      "Creating new model: \n",
      "{'eval_metric': 'rmse', 'tree_method': 'gpu_hist', 'learning_rate': 0.1, 'max_detph': 3, 'gamma': 0.05, 'subsample': 0.8}\n",
      "RMSLE: 1.438708\n",
      "[1.4251498, 1.4231462, 1.438708]\n",
      "{0.0: 1.4304134, 0.05: 1.4290013}\n",
      "\n",
      "****************** Performing CV for gamma=0.1 ******************\n",
      "\n",
      "Creating new model: \n",
      "{'eval_metric': 'rmse', 'tree_method': 'gpu_hist', 'learning_rate': 0.1, 'max_detph': 3, 'gamma': 0.1, 'subsample': 0.8}\n",
      "RMSLE: 1.4275948\n",
      "[1.4275948]\n",
      "\n",
      "Creating new model: \n",
      "{'eval_metric': 'rmse', 'tree_method': 'gpu_hist', 'learning_rate': 0.1, 'max_detph': 3, 'gamma': 0.1, 'subsample': 0.8}\n",
      "RMSLE: 1.4300952\n",
      "[1.4275948, 1.4300952]\n",
      "\n",
      "Creating new model: \n",
      "{'eval_metric': 'rmse', 'tree_method': 'gpu_hist', 'learning_rate': 0.1, 'max_detph': 3, 'gamma': 0.1, 'subsample': 0.8}\n",
      "RMSLE: 1.4377303\n",
      "[1.4275948, 1.4300952, 1.4377303]\n",
      "{0.0: 1.4304134, 0.05: 1.4290013, 0.1: 1.4318067}\n",
      "\n",
      "****************** Performing CV for gamma=0.15 ******************\n",
      "\n",
      "Creating new model: \n",
      "{'eval_metric': 'rmse', 'tree_method': 'gpu_hist', 'learning_rate': 0.1, 'max_detph': 3, 'gamma': 0.15, 'subsample': 0.8}\n",
      "RMSLE: 1.4237809\n",
      "[1.4237809]\n",
      "\n",
      "Creating new model: \n",
      "{'eval_metric': 'rmse', 'tree_method': 'gpu_hist', 'learning_rate': 0.1, 'max_detph': 3, 'gamma': 0.15, 'subsample': 0.8}\n",
      "RMSLE: 1.4307511\n",
      "[1.4237809, 1.4307511]\n",
      "\n",
      "Creating new model: \n",
      "{'eval_metric': 'rmse', 'tree_method': 'gpu_hist', 'learning_rate': 0.1, 'max_detph': 3, 'gamma': 0.15, 'subsample': 0.8}\n",
      "RMSLE: 1.4388098\n",
      "[1.4237809, 1.4307511, 1.4388098]\n",
      "{0.0: 1.4304134, 0.05: 1.4290013, 0.1: 1.4318067, 0.15: 1.4311138}\n",
      "\n",
      "****************** Performing CV for gamma=0.2 ******************\n",
      "\n",
      "Creating new model: \n",
      "{'eval_metric': 'rmse', 'tree_method': 'gpu_hist', 'learning_rate': 0.1, 'max_detph': 3, 'gamma': 0.2, 'subsample': 0.8}\n",
      "RMSLE: 1.4270581\n",
      "[1.4270581]\n",
      "\n",
      "Creating new model: \n",
      "{'eval_metric': 'rmse', 'tree_method': 'gpu_hist', 'learning_rate': 0.1, 'max_detph': 3, 'gamma': 0.2, 'subsample': 0.8}\n",
      "RMSLE: 1.4320798\n",
      "[1.4270581, 1.4320798]\n",
      "\n",
      "Creating new model: \n",
      "{'eval_metric': 'rmse', 'tree_method': 'gpu_hist', 'learning_rate': 0.1, 'max_detph': 3, 'gamma': 0.2, 'subsample': 0.8}\n",
      "RMSLE: 1.4401869\n",
      "[1.4270581, 1.4320798, 1.4401869]\n",
      "{0.0: 1.4304134, 0.05: 1.4290013, 0.1: 1.4318067, 0.15: 1.4311138, 0.2: 1.4331083}\n"
     ]
    }
   ],
   "source": [
    "# Find optimum value for min_child_weight\n",
    "gamma_range = list(range(0,21,5))\n",
    "gamma_cv_result = {}\n",
    "for gamma in gamma_range:\n",
    "    gamma=gamma/100\n",
    "    gc.collect()\n",
    "    print('\\n****************** Performing CV for gamma=' + str(gamma)+' ******************')\n",
    "    cv_result = xgb_wrapper(0.1, 3, gamma, 1000, 0.8)\n",
    "    gamma_cv_result.update({gamma: cv_result})\n",
    "    print(gamma_cv_result)"
   ]
  },
  {
   "cell_type": "code",
   "execution_count": 22,
   "metadata": {},
   "outputs": [
    {
     "data": {
      "image/png": "[encoded data removed]",
      "text/plain": [
       "<Figure size 432x288 with 1 Axes>"
      ]
     },
     "metadata": {
      "needs_background": "light"
     },
     "output_type": "display_data"
    }
   ],
   "source": [
    "\n",
    "plt.plot(list(gamma_cv_result.keys()),list(gamma_cv_result.values()))\n",
    "plt.xlabel('gamma')\n",
    "plt.ylabel('rmse')\n",
    "\n",
    "plt.show()"
   ]
  },
  {
   "cell_type": "markdown",
   "execution_count": null,
   "metadata": {},
   "source": [
    "**Step 3: Drop learning_rate and increase n_estimators and train on whole data set**"
   ]
  },
  {
   "cell_type": "code",
   "execution_count": 23,
   "metadata": {},
   "outputs": [],
   "source": [
    "gc.collect()\n",
    "# Train a model on whole data set\n",
    "dtrain = xgb.DMatrix(data=X_train, label=y_train)\n",
    "# Define XGBRegressor parameters\n",
    "xgb_params = {\n",
    "    'eval_metric': 'rmse',\n",
    "    'tree_method': 'gpu_hist',\n",
    "    \"learning_rate\": 0.05,\n",
    "    \"max_detph\": 3,\n",
    "    \"gamma\": 0.15,\n",
    "    \"subsample\": 0.8}\n",
    "# Train XGBoost Model & make predictions\n",
    "xgb_reg = xgb.train(xgb_params, dtrain, 3000)\n",
    "# Save model\n",
    "xgb_reg.save_model('0001.model')\n",
    "\n",
    "# Train outlier model\n",
    "dtrain = xgb.DMatrix(data=X_outlier_train, label=y_outlier_train)\n",
    "xgb_outlier_reg = xgb.train(xgb_params, dtrain, 3000)\n",
    "xgb_outlier_reg.save_model('0001_outlier.model')\n"
   ]
  }
 ],
 "metadata": {
  "kernelspec": {
   "display_name": "Python 3",
   "language": "python",
   "name": "python3"
  },
  "language_info": {
   "codemirror_mode": {
    "name": "ipython",
    "version": 3
   },
   "file_extension": ".py",
   "mimetype": "text/x-python",
   "name": "python",
   "nbconvert_exporter": "python",
   "pygments_lexer": "ipython3",
   "version": "3.6.6"
  }
 },
 "nbformat": 4,
 "nbformat_minor": 4
}
